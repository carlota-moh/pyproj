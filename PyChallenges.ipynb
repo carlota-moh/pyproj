{
 "cells": [
  {
   "cell_type": "markdown",
   "id": "b05ba3bd",
   "metadata": {},
   "source": [
    "# Array Dif"
   ]
  },
  {
   "cell_type": "markdown",
   "id": "c6c686c7",
   "metadata": {},
   "source": [
    "Define a function `array_diff` that takes two lists (`a` and `b`) and returns all elements in `a` that are not in `b`"
   ]
  },
  {
   "cell_type": "code",
   "execution_count": null,
   "id": "c729b963",
   "metadata": {},
   "outputs": [],
   "source": [
    "# My solution\n",
    "def array_diff(a, b):\n",
    "    c = []\n",
    "    unique_b = []\n",
    "    for x in b:\n",
    "        if x not in unique_b:\n",
    "            unique_b.append(x)\n",
    "    for y in a:\n",
    "        if y not in unique_b:\n",
    "            c.append(y)\n",
    "    return c"
   ]
  },
  {
   "cell_type": "code",
   "execution_count": null,
   "id": "7c574452",
   "metadata": {},
   "outputs": [],
   "source": [
    "l1 = [1,2,2,3]\n",
    "l2 = [2]\n",
    "\n",
    "print(array_diff(l1, l2))"
   ]
  },
  {
   "cell_type": "code",
   "execution_count": 7,
   "id": "19b3ac93",
   "metadata": {},
   "outputs": [],
   "source": [
    "# Elegant solution:\n",
    "def array_diff(a, b):\n",
    "    return [val for val in a if val not in b]"
   ]
  },
  {
   "cell_type": "code",
   "execution_count": 10,
   "id": "e84797fc",
   "metadata": {
    "scrolled": true
   },
   "outputs": [
    {
     "name": "stdout",
     "output_type": "stream",
     "text": [
      "[1, 3]\n"
     ]
    }
   ],
   "source": [
    "l1 = [1,2,2,3]\n",
    "l2 = [2]\n",
    "\n",
    "print(array_diff(l1, l2))"
   ]
  },
  {
   "cell_type": "markdown",
   "id": "2fd228a7",
   "metadata": {},
   "source": [
    "# Replace with Alphabet Position"
   ]
  },
  {
   "cell_type": "markdown",
   "id": "b6e94867",
   "metadata": {},
   "source": [
    "Given a string, replace every letter with its position in the alphabet.\n",
    "\n",
    "If anything in the text isn't a letter, ignore it and don't return it."
   ]
  },
  {
   "cell_type": "code",
   "execution_count": null,
   "id": "c2137da1",
   "metadata": {},
   "outputs": [],
   "source": [
    "# My solution\n",
    "def alphabet_position(text):\n",
    "    letters = ['a','b','c','d','e','f','g','h','i','j','k','l','m','n','o','p','q','r','s','t','u','v','w','x','y','z']\n",
    "    numbers = list(range(1, len(letters)+1))\n",
    "    dictionary = dict(zip(letters, numbers))\n",
    "\n",
    "    unique_text = []\n",
    "    text = text.lower()\n",
    "    for character in text:\n",
    "        if character in letters:\n",
    "            unique_text.append(character)\n",
    "    \n",
    "    message = []\n",
    "    for letter in unique_text:\n",
    "        conversion = dictionary.get(letter, '')\n",
    "        message.append(conversion)\n",
    "    \n",
    "    string = ' '.join([str(item) for item in message])\n",
    "    return string"
   ]
  },
  {
   "cell_type": "code",
   "execution_count": null,
   "id": "9957e7ea",
   "metadata": {},
   "outputs": [],
   "source": [
    "# Elegant solution\n",
    "def alphabet_position(text):\n",
    "    return ' '.join(str(ord(c) - 96) for c in text.lower() if c.isalpha())"
   ]
  },
  {
   "cell_type": "markdown",
   "id": "fe61f29c",
   "metadata": {},
   "source": [
    "# Find outlier"
   ]
  },
  {
   "cell_type": "markdown",
   "id": "b56243b0",
   "metadata": {},
   "source": [
    "Given an array of all even or all odd numbers, find the one number that does not match the others"
   ]
  },
  {
   "cell_type": "code",
   "execution_count": null,
   "id": "3d65faba",
   "metadata": {},
   "outputs": [],
   "source": [
    "# My solution\n",
    "def find_outlier(integers):\n",
    "    for int in integers:\n",
    "        if int % 2 == 0:\n",
    "            evens.append(int)\n",
    "        else:\n",
    "            odds.append(int)\n",
    "    if len(evens)<len(odds):\n",
    "        return evens\n",
    "    else:\n",
    "        return odds"
   ]
  },
  {
   "cell_type": "code",
   "execution_count": null,
   "id": "75cc0688",
   "metadata": {},
   "outputs": [],
   "source": [
    "# Elegant solution\n",
    "def find_outlier(integers):\n",
    "    odds = [x for x in integers if x % 2 != 0]\n",
    "    evens = [x for x in integers if x % 2 == 0]\n",
    "    return odds[0] if len(odds)<len(evens) else evens[0]"
   ]
  },
  {
   "cell_type": "markdown",
   "id": "65aec0b5",
   "metadata": {},
   "source": [
    "# Multiples of 3 or 5"
   ]
  },
  {
   "cell_type": "markdown",
   "id": "95e83e5a",
   "metadata": {},
   "source": [
    "If we list all the natural numbers below 10 that are multiples of 3 or 5, we get 3, 5, 6 and 9. The sum of these multiples is 23.\n",
    "\n",
    "Create a function that returns the sum of all the multiples of 3 or 5 below the number passed in. Additionally, if the number is negative, return 0 (for languages that do have them).\n",
    "\n",
    "Note: If the number is a multiple of both 3 and 5, only count it once."
   ]
  },
  {
   "cell_type": "code",
   "execution_count": 11,
   "id": "589ff823",
   "metadata": {},
   "outputs": [],
   "source": [
    "# My solution\n",
    "def solution(number):\n",
    "    n = 1\n",
    "    count = 0\n",
    "    while n < number:\n",
    "        if n % 3 == 0 or n % 5 == 0:\n",
    "            count += n    \n",
    "        n += 1\n",
    "    return count"
   ]
  },
  {
   "cell_type": "code",
   "execution_count": 12,
   "id": "667a24fe",
   "metadata": {},
   "outputs": [
    {
     "name": "stdout",
     "output_type": "stream",
     "text": [
      "23\n",
      "119\n",
      "450\n"
     ]
    }
   ],
   "source": [
    "print(solution(10))\n",
    "print(solution(23))\n",
    "print(solution(44))"
   ]
  },
  {
   "cell_type": "code",
   "execution_count": 13,
   "id": "d7a8f79b",
   "metadata": {},
   "outputs": [],
   "source": [
    "# Elegant solution\n",
    "def solution(number):\n",
    "    return sum(x for x in range(1, number) if x % 3 == 0 or x % 5 == 0)"
   ]
  },
  {
   "cell_type": "code",
   "execution_count": 14,
   "id": "5ed949d5",
   "metadata": {},
   "outputs": [
    {
     "name": "stdout",
     "output_type": "stream",
     "text": [
      "23\n",
      "119\n",
      "450\n"
     ]
    }
   ],
   "source": [
    "print(solution(10))\n",
    "print(solution(23))\n",
    "print(solution(44))"
   ]
  },
  {
   "cell_type": "code",
   "execution_count": null,
   "id": "7c5c0408",
   "metadata": {},
   "outputs": [],
   "source": []
  }
 ],
 "metadata": {
  "kernelspec": {
   "display_name": "Python 3",
   "language": "python",
   "name": "python3"
  },
  "language_info": {
   "codemirror_mode": {
    "name": "ipython",
    "version": 3
   },
   "file_extension": ".py",
   "mimetype": "text/x-python",
   "name": "python",
   "nbconvert_exporter": "python",
   "pygments_lexer": "ipython3",
   "version": "3.8.8"
  }
 },
 "nbformat": 4,
 "nbformat_minor": 5
}
