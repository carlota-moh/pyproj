{
 "cells": [
  {
   "cell_type": "markdown",
   "id": "b05ba3bd",
   "metadata": {},
   "source": [
    "# Array Dif"
   ]
  },
  {
   "cell_type": "markdown",
   "id": "c6c686c7",
   "metadata": {},
   "source": [
    "Define a function that takes two lists (a and b) and returns all elements in a that are not in b"
   ]
  },
  {
   "cell_type": "code",
   "execution_count": 7,
   "id": "19b3ac93",
   "metadata": {},
   "outputs": [],
   "source": [
    "def array_dif(a, b):\n",
    "    return [val for val in a if val not in b]"
   ]
  },
  {
   "cell_type": "code",
   "execution_count": 6,
   "id": "e84797fc",
   "metadata": {
    "scrolled": true
   },
   "outputs": [
    {
     "data": {
      "text/plain": [
       "[]"
      ]
     },
     "execution_count": 6,
     "metadata": {},
     "output_type": "execute_result"
    }
   ],
   "source": [
    "l1 = [1,2,2,3]\n",
    "l2 = [1,2,3]\n",
    "\n",
    "array_dif(l1, l2)"
   ]
  },
  {
   "cell_type": "markdown",
   "id": "2fd228a7",
   "metadata": {},
   "source": [
    "# Replace with Alphabet Position"
   ]
  },
  {
   "cell_type": "markdown",
   "id": "b6e94867",
   "metadata": {},
   "source": [
    "Given a string, replace every letter with its position in the alphabet.\n",
    "\n",
    "If anything in the text isn't a letter, ignore it and don't return it."
   ]
  },
  {
   "cell_type": "code",
   "execution_count": null,
   "id": "c2137da1",
   "metadata": {},
   "outputs": [],
   "source": [
    "def alphabet_position(text):\n",
    "    letters = ['a','b','c','d','e','f','g','h','i','j','k','l','m','n','o','p','q','r','s','t','u','v','w','x','y','z']\n",
    "    numbers = list(range(1, len(letters)+1))\n",
    "    dictionary = dict(zip(letters, numbers))\n",
    "\n",
    "    unique_text = []\n",
    "    text = text.lower()\n",
    "    for character in text:\n",
    "        if character in letters:\n",
    "            unique_text.append(character)\n",
    "    \n",
    "    message = []\n",
    "    for letter in unique_text:\n",
    "        conversion = dictionary.get(letter, '')\n",
    "        message.append(conversion)\n",
    "    \n",
    "    string = ' '.join([str(item) for item in message])\n",
    "    return string"
   ]
  },
  {
   "cell_type": "markdown",
   "id": "7da9075b",
   "metadata": {},
   "source": [
    "A more elegant way to do it would be:"
   ]
  },
  {
   "cell_type": "code",
   "execution_count": null,
   "id": "9957e7ea",
   "metadata": {},
   "outputs": [],
   "source": [
    "def alphabet_position(text):\n",
    "    return ' '.join(str(ord(c) - 96) for c in text.lower() if c.isalpha())"
   ]
  },
  {
   "cell_type": "markdown",
   "id": "fe61f29c",
   "metadata": {},
   "source": [
    "# Find outlier"
   ]
  },
  {
   "cell_type": "markdown",
   "id": "b56243b0",
   "metadata": {},
   "source": [
    "Given an array of all even or all odd numbers, find the one number that does not match the others"
   ]
  },
  {
   "cell_type": "code",
   "execution_count": null,
   "id": "3d65faba",
   "metadata": {},
   "outputs": [],
   "source": [
    "def find_outlier(integers):\n",
    "    for int in integers:\n",
    "        if int % 2 == 0:\n",
    "            evens.append(int)\n",
    "        else:\n",
    "            odds.append(int)\n",
    "    if len(evens)<len(odds):\n",
    "        return evens\n",
    "    else:\n",
    "        return odds"
   ]
  },
  {
   "cell_type": "markdown",
   "id": "92d27974",
   "metadata": {},
   "source": [
    "Another way to do it:"
   ]
  },
  {
   "cell_type": "code",
   "execution_count": null,
   "id": "75cc0688",
   "metadata": {},
   "outputs": [],
   "source": [
    "def find_outlier(integers):\n",
    "    odds = [x for x in integers if x % 2 != 0]\n",
    "    evens = [x for x in integers if x % 2 == 0]\n",
    "    return odds[0] if len(odds)<len(evens) else evens[0]"
   ]
  }
 ],
 "metadata": {
  "kernelspec": {
   "display_name": "Python 3",
   "language": "python",
   "name": "python3"
  },
  "language_info": {
   "codemirror_mode": {
    "name": "ipython",
    "version": 3
   },
   "file_extension": ".py",
   "mimetype": "text/x-python",
   "name": "python",
   "nbconvert_exporter": "python",
   "pygments_lexer": "ipython3",
   "version": "3.8.8"
  }
 },
 "nbformat": 4,
 "nbformat_minor": 5
}
